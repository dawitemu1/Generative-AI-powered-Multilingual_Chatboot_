{
 "cells": [
  {
   "cell_type": "code",
   "execution_count": 2,
   "id": "e266de82-279c-45a9-a42e-fcfe15d16629",
   "metadata": {},
   "outputs": [
    {
     "name": "stdout",
     "output_type": "stream",
     "text": [
      "✅ 14 chunks processed and stored in FAISS!\n"
     ]
    }
   ],
   "source": [
    "import os\n",
    "import torch\n",
    "from PIL import Image\n",
    "import pytesseract\n",
    "from langchain.document_loaders import PyPDFLoader, UnstructuredWordDocumentLoader\n",
    "from langchain.text_splitter import RecursiveCharacterTextSplitter\n",
    "from langchain.vectorstores import FAISS\n",
    "from langchain.embeddings import HuggingFaceEmbeddings\n",
    "from langchain.schema import Document\n",
    "\n",
    "# ✅ Optional: LLaMA 2 generation import (if needed later)\n",
    "# from transformers import AutoTokenizer, AutoModelForCausalLM, pipeline\n",
    "\n",
    "DOCS_DIR = \"Documents\"  # Folder containing PDFs, DOCX, and image files\n",
    "\n",
    "# Set Tesseract path if needed (Windows)\n",
    "# pytesseract.pytesseract.tesseract_cmd = r'C:\\Program Files\\Tesseract-OCR\\tesseract.exe'\n",
    "\n",
    "# Initialize SentenceTransformer-based embedding model\n",
    "embedding_model = HuggingFaceEmbeddings(model_name=\"sentence-transformers/all-MiniLM-L6-v2\")\n",
    "\n",
    "# Helper function to handle image OCR\n",
    "def extract_text_from_image(image_path):\n",
    "    try:\n",
    "        image = Image.open(image_path)\n",
    "        text = pytesseract.image_to_string(image)\n",
    "        return Document(page_content=text, metadata={\"source\": image_path})\n",
    "    except Exception as e:\n",
    "        print(f\"❌ Error reading image {image_path}: {e}\")\n",
    "        return None\n",
    "\n",
    "# Function to load and process documents including images\n",
    "def process_documents():\n",
    "    docs = []\n",
    "\n",
    "    for filename in os.listdir(DOCS_DIR):\n",
    "        filepath = os.path.join(DOCS_DIR, filename.lower())\n",
    "\n",
    "        if filename.endswith(\".pdf\"):\n",
    "            loader = PyPDFLoader(filepath)\n",
    "            docs.extend(loader.load())\n",
    "        elif filename.endswith(\".docx\"):\n",
    "            loader = UnstructuredWordDocumentLoader(filepath)\n",
    "            docs.extend(loader.load())\n",
    "        elif filename.endswith((\".png\", \".jpg\", \".jpeg\", \".tif\")):\n",
    "            doc = extract_text_from_image(filepath)\n",
    "            if doc:\n",
    "                docs.append(doc)\n",
    "        else:\n",
    "            continue  # Skip unsupported formats\n",
    "\n",
    "    # Split text into chunks\n",
    "    text_splitter = RecursiveCharacterTextSplitter(chunk_size=500, chunk_overlap=50)\n",
    "    chunks = text_splitter.split_documents(docs)\n",
    "\n",
    "    # Extract text for embedding\n",
    "    texts = [chunk.page_content for chunk in chunks]\n",
    "\n",
    "    # Create FAISS index\n",
    "    vector_store = FAISS.from_texts(texts, embedding_model)\n",
    "    vector_store.save_local(\"faiss_faqs_db1\")\n",
    "\n",
    "    return f\"✅ {len(texts)} chunks processed and stored in FAISS!\"\n",
    "\n",
    "# Run if FAISS DB doesn't exist\n",
    "if not os.path.exists(\"faiss_faqs_db1\"):\n",
    "    print(process_documents())\n",
    "else:\n",
    "    print(\"✅ FAISS index already exists. Skipping processing.\")\n"
   ]
  },
  {
   "cell_type": "code",
   "execution_count": null,
   "id": "59c91808-0080-4b4c-a085-012bfb0c4308",
   "metadata": {},
   "outputs": [],
   "source": []
  }
 ],
 "metadata": {
  "kernelspec": {
   "display_name": "Python 3 (ipykernel)",
   "language": "python",
   "name": "python3"
  },
  "language_info": {
   "codemirror_mode": {
    "name": "ipython",
    "version": 3
   },
   "file_extension": ".py",
   "mimetype": "text/x-python",
   "name": "python",
   "nbconvert_exporter": "python",
   "pygments_lexer": "ipython3",
   "version": "3.12.7"
  }
 },
 "nbformat": 4,
 "nbformat_minor": 5
}
